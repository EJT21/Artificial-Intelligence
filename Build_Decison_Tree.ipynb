{
 "cells": [
  {
   "cell_type": "markdown",
   "id": "44341fa2-b52d-44c4-ab58-9a552a839a80",
   "metadata": {},
   "source": [
    "# Build Decison Tree"
   ]
  },
  {
   "cell_type": "markdown",
   "id": "e10fd7b5-4ec8-4bee-9c94-463f5be8ce61",
   "metadata": {},
   "source": [
    "$Entropy(D) = -(9/15)*log_2(9/15)-(6/15)*log_2(6/15) = 0.9709$"
   ]
  },
  {
   "cell_type": "markdown",
   "id": "436bcca4-6feb-47ad-b3a0-4b859f34d22b",
   "metadata": {},
   "source": [
    "***Attribute: Age***"
   ]
  },
  {
   "cell_type": "markdown",
   "id": "042a3861-ba80-47f2-99a2-127fa3e76c65",
   "metadata": {},
   "source": [
    "|D1          | D2        |D3         |\n",
    "-------------|-----------|-----------| \n",
    "|Young : 5   |Middle: 5  |Old: 5     |\n",
    "|Y : 2  N : 3|Y : 3 N : 2|Y : 4 N : 1|"
   ]
  },
  {
   "cell_type": "markdown",
   "id": "5d3b0d27-27c6-46bc-afbc-3ab45b619118",
   "metadata": {},
   "source": [
    "$Entropy(D1) = -(2/5)*log_2(2/5)-(3/5)*log_2(3/5) = 0.9709$"
   ]
  },
  {
   "cell_type": "markdown",
   "id": "f8450ddf-2f81-43b4-8b97-3466e216b3cd",
   "metadata": {},
   "source": [
    "$Entropy(D2) = -(3/5)*log_2(3/5)-(2/5)*log_2(2/5) = 0.9709$"
   ]
  },
  {
   "cell_type": "markdown",
   "id": "377fca8e-eb86-4f36-8d81-f3bffcd9358f",
   "metadata": {},
   "source": [
    "$Entropy(D3) = -(4/5)*log_2(4/5)-(1/5)*log_2(1/5) = 0.7219$"
   ]
  },
  {
   "cell_type": "markdown",
   "id": "c0513ff0-4996-48e9-a799-273db4774440",
   "metadata": {},
   "source": [
    "$EntropyAge = (5/15)*Entropy(D1) + (5/15)*Entropy(D2) + (5/15)*Entropy(D3) = 0.8879$"
   ]
  },
  {
   "cell_type": "markdown",
   "id": "bd74470c-1d19-4b76-8f78-a2558fbaa1e9",
   "metadata": {},
   "source": [
    "$Gain = Entropy(D) - EntropyAge = 0.083$"
   ]
  },
  {
   "cell_type": "markdown",
   "id": "9182de35-8fc3-47af-b6fa-87369804e5d3",
   "metadata": {},
   "source": [
    "***Attribute: Has_Job***"
   ]
  },
  {
   "cell_type": "markdown",
   "id": "7f0d28df-b138-49e2-a5ff-69ca27b02ceb",
   "metadata": {},
   "source": [
    "|D1          | D2        |\n",
    "-------------|-----------|\n",
    "|True : 5    |False: 10  |\n",
    "|Y : 5  N : 0|Y : 4 N : 6|"
   ]
  },
  {
   "cell_type": "markdown",
   "id": "ea03529e-47e9-49e3-bc6d-d7244ee8fd25",
   "metadata": {},
   "source": [
    "$Entropy(D1) = -(5/5)*log_2(5/5)-(0/5)*log_2(0/5) = 0$"
   ]
  },
  {
   "cell_type": "markdown",
   "id": "a0770847-8523-47f1-b407-3dd426720162",
   "metadata": {},
   "source": [
    "$Entropy(D2) = -(4/10)*log_2(4/10)-(6/10)*log_2(6/10) = 0.9709$"
   ]
  },
  {
   "cell_type": "markdown",
   "id": "a37695b3-68c1-477f-89f5-038b93cd2752",
   "metadata": {},
   "source": [
    "$EntropyHasJob = (5/15)*Entropy(D1) + (10/15)*Entropy(D2) = 0.6473$"
   ]
  },
  {
   "cell_type": "markdown",
   "id": "fc06f495-22d5-4a57-85d2-5ea0646ac4bc",
   "metadata": {},
   "source": [
    "$Gain = Entropy(D) - EntropyHasJob = 0.3236$"
   ]
  },
  {
   "cell_type": "markdown",
   "id": "7e401af8-9823-4005-b72e-e4cafdacb5c9",
   "metadata": {},
   "source": [
    "***Attribute: Own_House***"
   ]
  },
  {
   "cell_type": "markdown",
   "id": "2b784267-c6ad-4f83-9841-34a9afc023e7",
   "metadata": {},
   "source": [
    "|D1          | D2        |\n",
    "-------------|-----------|\n",
    "|True : 6    |False: 9   |\n",
    "|Y : 6  N : 0|Y : 3 N : 6|"
   ]
  },
  {
   "cell_type": "markdown",
   "id": "9b0f3ee5-09f5-4358-b342-5a7300c9c823",
   "metadata": {},
   "source": [
    "$Entropy(D1) = -(6/6)*log_2(6/6)-(0/6)*log_2(0/6) = 0$"
   ]
  },
  {
   "cell_type": "markdown",
   "id": "896a33fd-c2cf-499a-ada5-12a4b65670f0",
   "metadata": {},
   "source": [
    "$Entropy(D2) = -(3/9)*log_2(3/9)-(6/9)*log_2(6/9) = .9182$"
   ]
  },
  {
   "cell_type": "markdown",
   "id": "304f744d-f498-4626-82e0-5a0c0b092688",
   "metadata": {},
   "source": [
    "$EntropyOwnHouse = (6/15)*Entropy(D1) + (9/15)*Entropy(D2) = 0.5509$"
   ]
  },
  {
   "cell_type": "markdown",
   "id": "9f116323-d6f5-41e3-a56c-fd5eed60cbfd",
   "metadata": {},
   "source": [
    "***Gain = Entropy(D) - EntropyOwnHouse = 0.42***"
   ]
  },
  {
   "cell_type": "markdown",
   "id": "787780f3-c58a-4d2c-a1f7-2cae1e13b7c6",
   "metadata": {},
   "source": [
    "***Attribute: Credit_Rating***"
   ]
  },
  {
   "cell_type": "markdown",
   "id": "97c5bffc-aa34-4c2c-b8b9-d868c1695e0e",
   "metadata": {},
   "source": [
    "|D1          | D2        |D3          |\n",
    "-------------|-----------|------------| \n",
    "|Fair : 5    |Good: 6    |Excellent: 4|\n",
    "|Y : 1  N : 4|Y : 4 N : 2|Y : 4 N : 0 |"
   ]
  },
  {
   "cell_type": "markdown",
   "id": "d0ae4091-afad-4ca3-a21d-2d4b2cd1a471",
   "metadata": {},
   "source": [
    "$Entropy(D1) = -(1/5)*log_2(1/5)-(4/5)*log_2(4/5) = 0.7219$"
   ]
  },
  {
   "cell_type": "markdown",
   "id": "a21d19cb-6db0-4067-9fbc-e25122f02af0",
   "metadata": {},
   "source": [
    "$Entropy(D2) = -(4/6)*log_2(4/6)-(2/6)*log_2(2/6) = 0.9182$"
   ]
  },
  {
   "cell_type": "markdown",
   "id": "a62ac338-f1ce-4fb1-946f-a622c36dfd25",
   "metadata": {},
   "source": [
    "$Entropy(D3) = -(4/4)*log_2(4/4)-(0/4)*log_2(0/4) = 0$"
   ]
  },
  {
   "cell_type": "markdown",
   "id": "3d34f133-db9e-44fa-9676-65eda2249463",
   "metadata": {},
   "source": [
    "$EntropyCreditRating = (5/15)*Entropy(D1) + (6/15)*Entropy(D2) + (4/15)*Entropy(D3) = 0.6079$"
   ]
  },
  {
   "cell_type": "markdown",
   "id": "75139070-4e4d-4b02-a9bf-721250dd8c6c",
   "metadata": {},
   "source": [
    "$Gain = Entropy(D) - EntropyHasJob = 0.3630$"
   ]
  },
  {
   "cell_type": "markdown",
   "id": "faa4b8ee-b199-499f-b0ce-bc925519cce2",
   "metadata": {},
   "source": [
    "### Based on the information gain of each attribute, owning a home gives the most gain and the least entropy, so this attribute would be the best to split at"
   ]
  }
 ],
 "metadata": {
  "kernelspec": {
   "display_name": "Python 3",
   "language": "python",
   "name": "python3"
  },
  "language_info": {
   "codemirror_mode": {
    "name": "ipython",
    "version": 3
   },
   "file_extension": ".py",
   "mimetype": "text/x-python",
   "name": "python",
   "nbconvert_exporter": "python",
   "pygments_lexer": "ipython3",
   "version": "3.8.8"
  }
 },
 "nbformat": 4,
 "nbformat_minor": 5.1
}
